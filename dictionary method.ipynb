{
 "cells": [
  {
   "cell_type": "markdown",
   "id": "59e9ecbb-cc7f-4376-b9fd-665dee873577",
   "metadata": {},
   "source": [
    "# python dictionary method"
   ]
  },
  {
   "cell_type": "markdown",
   "id": "751720e0-3240-487a-9abf-7781e941f135",
   "metadata": {},
   "source": [
    "# python dictionary clear() method "
   ]
  },
  {
   "cell_type": "code",
   "execution_count": 11,
   "id": "11f11150-46b7-4960-8ab1-41f87a157fdd",
   "metadata": {},
   "outputs": [],
   "source": [
    "mobile = {\n",
    "    \"brand\": \"redmi\",\n",
    "    \"model\": \"note 10 pro\",\n",
    "    \"year\" : 2021\n",
    "}"
   ]
  },
  {
   "cell_type": "code",
   "execution_count": 13,
   "id": "5579c3fc-259b-4c23-87fd-5218cf4dd27c",
   "metadata": {},
   "outputs": [],
   "source": [
    "mobile.clear()"
   ]
  },
  {
   "cell_type": "code",
   "execution_count": 17,
   "id": "99d2ef96-1ca9-425c-86ce-3a2f1d53ee77",
   "metadata": {},
   "outputs": [
    {
     "name": "stdout",
     "output_type": "stream",
     "text": [
      "{}\n"
     ]
    }
   ],
   "source": [
    "print(mobile)"
   ]
  },
  {
   "cell_type": "markdown",
   "id": "25463aa0-17a6-427d-9ef9-4a99a79e12f3",
   "metadata": {},
   "source": [
    "# python dictionary copy() method"
   ]
  },
  {
   "cell_type": "code",
   "execution_count": 20,
   "id": "9887c8b6-acb8-47f7-9ca7-3adad0e5f042",
   "metadata": {},
   "outputs": [],
   "source": [
    "mobile = {\n",
    "    \"brand\": \"redmi\",\n",
    "    \"model\": \"redmi 10 pro\",\n",
    "    \"year\" : 2021\n",
    "}"
   ]
  },
  {
   "cell_type": "code",
   "execution_count": 22,
   "id": "32fe6710-85da-44af-a06e-eb1f4532a1e4",
   "metadata": {},
   "outputs": [],
   "source": [
    "x = mobile.copy()"
   ]
  },
  {
   "cell_type": "code",
   "execution_count": 24,
   "id": "26c76790-f0cc-4a5d-9605-5cc342304727",
   "metadata": {},
   "outputs": [
    {
     "name": "stdout",
     "output_type": "stream",
     "text": [
      "{'brand': 'redmi', 'model': 'redmi 10 pro', 'year': 2021}\n"
     ]
    }
   ],
   "source": [
    "print(x)"
   ]
  },
  {
   "cell_type": "markdown",
   "id": "f9a8ba66-f0a7-4631-a6c3-a026049bcd1b",
   "metadata": {},
   "source": [
    "# python dictionary fromkeys() method"
   ]
  },
  {
   "cell_type": "code",
   "execution_count": 37,
   "id": "184ddd25-19bd-4f9f-8688-6e72c7bd7c89",
   "metadata": {},
   "outputs": [],
   "source": [
    "fruit = ('apple', 'orange', 'banana')\n",
    "other = ('mango')\n",
    "\n",
    "thisdict = dict.fromkeys(fruit, other)\n",
    "\n"
   ]
  },
  {
   "cell_type": "code",
   "execution_count": 39,
   "id": "b5125987-9779-49c9-93e2-e74133f307c0",
   "metadata": {},
   "outputs": [
    {
     "name": "stdout",
     "output_type": "stream",
     "text": [
      "{'apple': 'mango', 'orange': 'mango', 'banana': 'mango'}\n"
     ]
    }
   ],
   "source": [
    "print(thisdict)"
   ]
  },
  {
   "cell_type": "markdown",
   "id": "b5942656-aebf-4e3d-affd-e316efc72313",
   "metadata": {},
   "source": [
    "# python dictionary get() method"
   ]
  },
  {
   "cell_type": "code",
   "execution_count": 44,
   "id": "7a6d816d-33a8-4650-bdf6-5dde0ccf7a7f",
   "metadata": {},
   "outputs": [],
   "source": [
    "mobile = {\n",
    "    \"brand\": \"redmi\",\n",
    "    \"model\": \"note 10 pro\",\n",
    "    \"year\": 2020\n",
    "}"
   ]
  },
  {
   "cell_type": "code",
   "execution_count": 46,
   "id": "59c04c03-d067-46fe-8df2-0aebed317e1f",
   "metadata": {},
   "outputs": [],
   "source": [
    "x = mobile.get(\"model\")"
   ]
  },
  {
   "cell_type": "code",
   "execution_count": 48,
   "id": "28146619-c12a-4110-a2e3-913a38570f63",
   "metadata": {},
   "outputs": [
    {
     "name": "stdout",
     "output_type": "stream",
     "text": [
      "note 10 pro\n"
     ]
    }
   ],
   "source": [
    "print(x)"
   ]
  },
  {
   "cell_type": "markdown",
   "id": "a4ab6589-ac25-4e29-95be-163e612a3304",
   "metadata": {},
   "source": [
    "# python dictionary items() method"
   ]
  },
  {
   "cell_type": "code",
   "execution_count": 51,
   "id": "893b510e-542f-45f3-bac2-1657932a2cb0",
   "metadata": {},
   "outputs": [],
   "source": [
    "mobile = {\n",
    "    \"brand\": \"redmi\",\n",
    "    \"model\": \"note 10 pro\",\n",
    "    \"year\": 2020\n",
    "}"
   ]
  },
  {
   "cell_type": "code",
   "execution_count": 53,
   "id": "976090f9-9f40-4e96-9716-d8e6e032f96f",
   "metadata": {},
   "outputs": [],
   "source": [
    "x = mobile.items()"
   ]
  },
  {
   "cell_type": "code",
   "execution_count": 55,
   "id": "9c38cb51-573d-40d4-9e10-0aacb2fe5843",
   "metadata": {},
   "outputs": [
    {
     "name": "stdout",
     "output_type": "stream",
     "text": [
      "dict_items([('brand', 'redmi'), ('model', 'note 10 pro'), ('year', 2020)])\n"
     ]
    }
   ],
   "source": [
    "print(x)"
   ]
  },
  {
   "cell_type": "markdown",
   "id": "138fc0cc-67c1-4b6f-ab13-89e01096752b",
   "metadata": {},
   "source": [
    "# python dictionary keys() method"
   ]
  },
  {
   "cell_type": "code",
   "execution_count": 58,
   "id": "77c0545f-a66b-483f-9bf7-dadc85bca4f2",
   "metadata": {},
   "outputs": [],
   "source": [
    "mobile = {\n",
    "    \"brand\": \"redmi\",\n",
    "    \"model\": \"note 10 pro\",\n",
    "    \"year\": 2020\n",
    "}"
   ]
  },
  {
   "cell_type": "code",
   "execution_count": 60,
   "id": "828dfe59-7d65-41f6-993f-6725321766a7",
   "metadata": {},
   "outputs": [],
   "source": [
    "x = mobile.keys()"
   ]
  },
  {
   "cell_type": "code",
   "execution_count": 62,
   "id": "d006ff54-0274-4451-b8bd-c759e42f74e4",
   "metadata": {},
   "outputs": [
    {
     "name": "stdout",
     "output_type": "stream",
     "text": [
      "dict_keys(['brand', 'model', 'year'])\n"
     ]
    }
   ],
   "source": [
    "print(x)"
   ]
  },
  {
   "cell_type": "markdown",
   "id": "b65f1fd2-ecb0-4f6f-90c8-a2d060cbc418",
   "metadata": {},
   "source": [
    "# python dictionary pop() method"
   ]
  },
  {
   "cell_type": "code",
   "execution_count": 65,
   "id": "1b5b3b69-3fb7-425b-9ac2-b483c0a388bd",
   "metadata": {},
   "outputs": [],
   "source": [
    "mobile = {\n",
    "    \"brand\": \"redmi\",\n",
    "    \"model\": \"note 10 pro\",\n",
    "    \"year\": 2020\n",
    "}"
   ]
  },
  {
   "cell_type": "code",
   "execution_count": 67,
   "id": "7a54a681-933c-4745-b15a-f250f1defce9",
   "metadata": {},
   "outputs": [
    {
     "data": {
      "text/plain": [
       "'note 10 pro'"
      ]
     },
     "execution_count": 67,
     "metadata": {},
     "output_type": "execute_result"
    }
   ],
   "source": [
    "mobile.pop(\"model\")"
   ]
  },
  {
   "cell_type": "code",
   "execution_count": 69,
   "id": "d18754ba-774c-4ac5-8980-8dae00f0d4df",
   "metadata": {},
   "outputs": [
    {
     "name": "stdout",
     "output_type": "stream",
     "text": [
      "{'brand': 'redmi', 'year': 2020}\n"
     ]
    }
   ],
   "source": [
    "print(mobile)"
   ]
  },
  {
   "cell_type": "markdown",
   "id": "dca1ab7c-5c76-4604-920a-f0f1af9a3468",
   "metadata": {},
   "source": [
    "# python dictionary popitems() method"
   ]
  },
  {
   "cell_type": "code",
   "execution_count": 72,
   "id": "682d00ae-494a-47f2-b0f0-73ba086dad6a",
   "metadata": {},
   "outputs": [],
   "source": [
    "mobile = {\n",
    "    \"brand\": \"redmi\",\n",
    "    \"model\": \"note 10 pro\",\n",
    "    \"year\": 2020\n",
    "}"
   ]
  },
  {
   "cell_type": "code",
   "execution_count": 76,
   "id": "2da02f83-f10a-429d-92eb-ddc2bb3934d5",
   "metadata": {},
   "outputs": [
    {
     "data": {
      "text/plain": [
       "('year', 2020)"
      ]
     },
     "execution_count": 76,
     "metadata": {},
     "output_type": "execute_result"
    }
   ],
   "source": [
    "mobile.popitem()"
   ]
  },
  {
   "cell_type": "code",
   "execution_count": 78,
   "id": "8fb029f1-f3a0-4e73-918e-1b2f26ffe1f7",
   "metadata": {},
   "outputs": [
    {
     "name": "stdout",
     "output_type": "stream",
     "text": [
      "{'brand': 'redmi', 'model': 'note 10 pro'}\n"
     ]
    }
   ],
   "source": [
    "print(mobile)"
   ]
  },
  {
   "cell_type": "markdown",
   "id": "b7362e1c-4574-44c4-99b8-d29830b9e8b5",
   "metadata": {},
   "source": [
    "# python dictinary setdefault() method"
   ]
  },
  {
   "cell_type": "code",
   "execution_count": 81,
   "id": "6de60ef0-eae2-4e76-840a-d188d2d00249",
   "metadata": {},
   "outputs": [],
   "source": [
    "mobile = {\n",
    "    \"brand\": \"redmi\",\n",
    "    \"model\": \"note 10 pro\",\n",
    "    \"year\": 2020\n",
    "}"
   ]
  },
  {
   "cell_type": "code",
   "execution_count": 83,
   "id": "3e9bfae9-8356-4b2f-9a7e-5b759db66ac5",
   "metadata": {},
   "outputs": [],
   "source": [
    "x = mobile.setdefault(\"model\",\"narzo\")"
   ]
  },
  {
   "cell_type": "code",
   "execution_count": 85,
   "id": "0a7e8cb4-8dc7-40c4-b305-314a4da3797f",
   "metadata": {},
   "outputs": [
    {
     "name": "stdout",
     "output_type": "stream",
     "text": [
      "note 10 pro\n"
     ]
    }
   ],
   "source": [
    "print(x)"
   ]
  },
  {
   "cell_type": "markdown",
   "id": "c5bc8aea-a71d-4907-b638-6237868aeb94",
   "metadata": {},
   "source": [
    "# python dictionary update() method"
   ]
  },
  {
   "cell_type": "code",
   "execution_count": 88,
   "id": "c77ae1e6-bcc4-4808-8e9a-ccd3d00bcbd6",
   "metadata": {},
   "outputs": [],
   "source": [
    "mobile = {\n",
    "    \"brand\": \"redmi\",\n",
    "    \"model\": \"note 10 pro\",\n",
    "    \"year\": 2020\n",
    "}"
   ]
  },
  {
   "cell_type": "code",
   "execution_count": 90,
   "id": "950acc67-ecc1-4d2f-9153-d11587e7a20f",
   "metadata": {},
   "outputs": [],
   "source": [
    "mobile.update({\"color\": \"silver\"})"
   ]
  },
  {
   "cell_type": "code",
   "execution_count": 92,
   "id": "a24759ad-4631-4bbd-a148-f368a6d83fa4",
   "metadata": {},
   "outputs": [
    {
     "name": "stdout",
     "output_type": "stream",
     "text": [
      "{'brand': 'redmi', 'model': 'note 10 pro', 'year': 2020, 'color': 'silver'}\n"
     ]
    }
   ],
   "source": [
    "print(mobile)"
   ]
  },
  {
   "cell_type": "markdown",
   "id": "23887a3e-1f96-4585-96b6-c253012ea8ea",
   "metadata": {},
   "source": [
    "# python dictionary values() method"
   ]
  },
  {
   "cell_type": "code",
   "execution_count": 95,
   "id": "0bf6412b-4286-4d9c-b841-09bbb0cd69ce",
   "metadata": {},
   "outputs": [],
   "source": [
    "mobile = {\n",
    "    \"brand\": \"redmi\",\n",
    "    \"model\": \"note 10 pro\",\n",
    "    \"year\": 2020\n",
    "}"
   ]
  },
  {
   "cell_type": "code",
   "execution_count": 97,
   "id": "07198d48-e235-4c4d-9a86-b129fad4b924",
   "metadata": {},
   "outputs": [],
   "source": [
    "x = mobile.values()"
   ]
  },
  {
   "cell_type": "code",
   "execution_count": 99,
   "id": "dd623ba8-6a53-4ef3-a70d-362d7c053ab6",
   "metadata": {},
   "outputs": [
    {
     "name": "stdout",
     "output_type": "stream",
     "text": [
      "dict_values(['redmi', 'note 10 pro', 2020])\n"
     ]
    }
   ],
   "source": [
    "print(x)"
   ]
  },
  {
   "cell_type": "markdown",
   "id": "72810d87-b5bf-4f61-af61-330d9416f550",
   "metadata": {},
   "source": [
    "# python tuple method"
   ]
  },
  {
   "cell_type": "markdown",
   "id": "c9edd3fa-a63c-49f8-bb57-10cf055774cf",
   "metadata": {},
   "source": [
    "# python tuple count() method"
   ]
  },
  {
   "cell_type": "code",
   "execution_count": 5,
   "id": "61b24e29-9cc3-4842-b393-264cbc9174d6",
   "metadata": {},
   "outputs": [],
   "source": [
    "sumit = (70,72,75,80,65,88,55,57,88,70,72)\n",
    "\n",
    "marks = sumit.count(88)"
   ]
  },
  {
   "cell_type": "code",
   "execution_count": 7,
   "id": "630259d0-25b0-4dcc-b4c7-ba8b58cb40c0",
   "metadata": {},
   "outputs": [
    {
     "name": "stdout",
     "output_type": "stream",
     "text": [
      "2\n"
     ]
    }
   ],
   "source": [
    "print(marks)"
   ]
  },
  {
   "cell_type": "markdown",
   "id": "9a482c9a-9652-4249-8c0a-733b3fe849b1",
   "metadata": {},
   "source": [
    "# python tuple index() method"
   ]
  },
  {
   "cell_type": "code",
   "execution_count": 10,
   "id": "12bfdbf5-f69a-4aa5-8fa4-955ce7a8977e",
   "metadata": {},
   "outputs": [],
   "source": [
    "akash = (45,55,65,75,85,95,55,65,92)"
   ]
  },
  {
   "cell_type": "code",
   "execution_count": 12,
   "id": "edff6a5e-87c1-4065-a917-993c65d294de",
   "metadata": {},
   "outputs": [],
   "source": [
    "marks = akash.index(85)"
   ]
  },
  {
   "cell_type": "code",
   "execution_count": 14,
   "id": "1a602d0a-1fd2-40b8-b71e-e9f703e054ea",
   "metadata": {},
   "outputs": [
    {
     "name": "stdout",
     "output_type": "stream",
     "text": [
      "4\n"
     ]
    }
   ],
   "source": [
    "print(marks)"
   ]
  },
  {
   "cell_type": "code",
   "execution_count": null,
   "id": "aaaaefa9-c315-4089-b5c4-bfb2da0096d1",
   "metadata": {},
   "outputs": [],
   "source": []
  }
 ],
 "metadata": {
  "kernelspec": {
   "display_name": "Python 3 (ipykernel)",
   "language": "python",
   "name": "python3"
  },
  "language_info": {
   "codemirror_mode": {
    "name": "ipython",
    "version": 3
   },
   "file_extension": ".py",
   "mimetype": "text/x-python",
   "name": "python",
   "nbconvert_exporter": "python",
   "pygments_lexer": "ipython3",
   "version": "3.11.7"
  }
 },
 "nbformat": 4,
 "nbformat_minor": 5
}
